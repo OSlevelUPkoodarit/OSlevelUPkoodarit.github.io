{
 "cells": [
  {
   "cell_type": "markdown",
   "metadata": {},
   "source": [
    "# Klusterointi: tehtävät\n",
    "\n",
    "Näissä tehtävissä täydennettävät osat on merkitty alaviivoilla _ . Tehtävänäsi on siis niiden paikalle keksiä oikea funktiokutsu, ja mahdollisesti tarvittavat parametrit.\n",
    "\n",
    "Ilmoitetaan tässä tehtävässä tarvittavat kirjastot:"
   ]
  },
  {
   "cell_type": "code",
   "execution_count": null,
   "metadata": {},
   "outputs": [],
   "source": [
    "import pandas as pd\n",
    "import numpy as np\n",
    "from sklearn.cluster import KMeans\n",
    "from matplotlib import pyplot as plt\n",
    "import seaborn as sns"
   ]
  },
  {
   "cell_type": "markdown",
   "metadata": {},
   "source": [
    "Lataa iris-dataset dataframeen totuttuun tapaan:"
   ]
  },
  {
   "cell_type": "code",
   "execution_count": null,
   "metadata": {},
   "outputs": [],
   "source": [
    "df=pd.____('polku tiedostoon')"
   ]
  },
  {
   "cell_type": "markdown",
   "metadata": {},
   "source": [
    "Tutkitaan iris-dataa. Tulosta kymmenen ensimmäistä riviä ja mieti, mikä eri sarakkeiden merkitys on ja mitä dataa meillä on."
   ]
  },
  {
   "cell_type": "code",
   "execution_count": null,
   "metadata": {},
   "outputs": [],
   "source": [
    "df.___(__)"
   ]
  },
  {
   "cell_type": "markdown",
   "metadata": {},
   "source": [
    "Poistetaan Id kolumni, koska emme tee sillä mitään:"
   ]
  },
  {
   "cell_type": "code",
   "execution_count": null,
   "metadata": {},
   "outputs": [],
   "source": [
    "df=df.__('_', axis=1)"
   ]
  },
  {
   "cell_type": "markdown",
   "metadata": {},
   "source": [
    "Tutki, kuinka monta riviä datasetissä on."
   ]
  },
  {
   "cell_type": "code",
   "execution_count": null,
   "metadata": {},
   "outputs": [],
   "source": [
    "df.___"
   ]
  },
  {
   "cell_type": "markdown",
   "metadata": {},
   "source": [
    "Tutki seuraavaksi numeeristen muuttujien jakaumia:"
   ]
  },
  {
   "cell_type": "code",
   "execution_count": null,
   "metadata": {},
   "outputs": [],
   "source": [
    "df.___()"
   ]
  },
  {
   "cell_type": "markdown",
   "metadata": {},
   "source": [
    "Ovatko tämän perusteella muuttujien keskiarvo ja mediaani lähellä toisiaan? Jos eivät, mistä se kertoo?"
   ]
  },
  {
   "cell_type": "markdown",
   "metadata": {},
   "source": [
    "Jos aiemmasta taulukosta ei käy ilmi, löytyykö puuttuvia arvoja, tarkasta se tässä:"
   ]
  },
  {
   "cell_type": "code",
   "execution_count": null,
   "metadata": {},
   "outputs": [],
   "source": [
    "df.___().sum()"
   ]
  },
  {
   "cell_type": "markdown",
   "metadata": {},
   "source": [
    "Listaa kaikki mahdolliset species-sarakkeen arvot:"
   ]
  },
  {
   "cell_type": "code",
   "execution_count": null,
   "metadata": {},
   "outputs": [],
   "source": [
    "df['___'].___()"
   ]
  },
  {
   "cell_type": "markdown",
   "metadata": {},
   "source": [
    "Species kertoo meille, mihin lajiin kyseinen kurjenmiekka kuuluu. Siitä saamme \"oikeat vastaukset\". Emme halua kuitenkaan käyttää sitä klusteroinnissa, koska tavoitteena olisi tunnistaa ne ryhmät muiden tietojen perusteella. Muutetaan se kuitenkin valmiiksi numeeriseen muotoon kertomalla ensin että se on kategoria ja sen jälkeen hakemalla vastaavat numeeriset koodit:"
   ]
  },
  {
   "cell_type": "code",
   "execution_count": null,
   "metadata": {},
   "outputs": [],
   "source": [
    "df['____']=df['___'].astype('___').cat.codes"
   ]
  },
  {
   "cell_type": "markdown",
   "metadata": {},
   "source": [
    "Vaikka tiedämme, että ryhmiä on 3, tutkitaan silti, miten eri klustereiden määrä vaikuttaa varianssiin. Muista tehdä klusterointi vain 'SepalLengthCm', 'SepalWidthCm', 'PetalLengthCm', 'PetalWidthCm' -muuttujilla!"
   ]
  },
  {
   "cell_type": "code",
   "execution_count": null,
   "metadata": {},
   "outputs": [],
   "source": [
    "variances = []\n",
    "for i in range(1, 20):\n",
    "    kmeans = _(___) \n",
    "    kmeans.___(____)\n",
    "    variances.append(kmeans.inertia_)\n",
    "    \n",
    "plt.plot(variances, 'ro-', label=\"Variance\")\n",
    "plt.title(\"Varianssi eri klusterimäärillä\")\n",
    "plt.xlabel(\"Klusterien määrä\")\n",
    "plt.ylabel(\"Varianssi\")\n",
    "plt.show()"
   ]
  },
  {
   "cell_type": "markdown",
   "metadata": {},
   "source": [
    "Tehdään sitten klusterointi oikealla k:n arvolla, eli 3:lla klusterilla."
   ]
  },
  {
   "cell_type": "code",
   "execution_count": null,
   "metadata": {},
   "outputs": [],
   "source": [
    "kmeans = ____(____) \n",
    "clusters=kmeans.fit_predict(____)"
   ]
  },
  {
   "cell_type": "markdown",
   "metadata": {},
   "source": [
    "Lisää klusteritiedot alkuperäiseen datasettiin cluster-nimiseen attribuuttiin ja varmista, että attribuutti on lisätty:"
   ]
  },
  {
   "cell_type": "code",
   "execution_count": null,
   "metadata": {},
   "outputs": [],
   "source": [
    "df[___]=clusters\n",
    "df.____()"
   ]
  },
  {
   "cell_type": "markdown",
   "metadata": {},
   "source": [
    "Visualisoi klusteroinnin tulos haluamallasi tavalla:"
   ]
  },
  {
   "cell_type": "code",
   "execution_count": null,
   "metadata": {},
   "outputs": [],
   "source": [
    "_______"
   ]
  },
  {
   "cell_type": "markdown",
   "metadata": {},
   "source": [
    "Miten tulkitsisit kuvaajia? Kokeile, saisitko K-Meansin parametreja muokkaamalla erilaisia tuloksia."
   ]
  },
  {
   "cell_type": "code",
   "execution_count": null,
   "metadata": {},
   "outputs": [],
   "source": []
  }
 ],
 "metadata": {
  "kernelspec": {
   "display_name": "Python 3",
   "language": "python",
   "name": "python3"
  },
  "language_info": {
   "codemirror_mode": {
    "name": "ipython",
    "version": 3
   },
   "file_extension": ".py",
   "mimetype": "text/x-python",
   "name": "python",
   "nbconvert_exporter": "python",
   "pygments_lexer": "ipython3",
   "version": "3.6.5"
  }
 },
 "nbformat": 4,
 "nbformat_minor": 2
}
