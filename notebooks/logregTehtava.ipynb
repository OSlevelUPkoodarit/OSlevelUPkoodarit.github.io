{
 "cells": [
  {
   "cell_type": "markdown",
   "metadata": {},
   "source": [
    "Data on lainattu Kagglen Titanic-kilpailun \n",
    "[sivuilta](https://www.kaggle.com/c/titanic) \n",
    "ja on ladattavissa ilmaiseksi. Viittaathan aina alkuperäiseen lähteeseen, jos otat datan käyttöösi."
   ]
  },
  {
   "cell_type": "markdown",
   "metadata": {},
   "source": [
    "# Logistinen regressio: tehtävä"
   ]
  },
  {
   "cell_type": "markdown",
   "metadata": {},
   "source": [
    "Ensimmäinen projektisi on päättynyt etkä ollut täysin tyytyväinen sen tuloksiin. Olet aloittamassa toista projektia ja asiakkaasi on liverpoolilainen vakuutusyhtiö, joka myy henkivakuutuksia matkustajille, jotka ovat lähdössä vaaralliselle laivamatkalle Atlannin yli kohti New Yorkia. Yhtiö miettii, kenelle se tarjoaisi vakuutusta ja millä hinnalla. Sinun tehtäväsi on rakentaa hinnoittelun tueksi koneoppimismalli, joka ennustaa, millä todennäköisyydellä matkustaja selviää matkasta, jos laiva joutuu onnettomuuteen."
   ]
  },
  {
   "cell_type": "markdown",
   "metadata": {},
   "source": [
    "Mallin kehittelemiseksi tarvitset dataa aiemmasta, vastaavasta tilanteesta. Muistat, että Englannista on aiemmin lähtenyt kohti New Yorkia laiva, joka törmäsi jäävuoreen ja upposi. Onneksesi tästä matkasta on dataa saatavilla, joten päätät ottaa sen käyttöösi."
   ]
  },
  {
   "cell_type": "markdown",
   "metadata": {},
   "source": [
    "Käsiin saamassasi datassa on seuraavat muuttujat:"
   ]
  },
  {
   "cell_type": "markdown",
   "metadata": {},
   "source": [
    "Variable |\tDefinition |\tKey\n",
    "---|---|---\n",
    "survival|\tSurvival|\t0 = No, 1 = Yes\n",
    "pclass|\tTicket class|\t1 = 1st, 2 = 2nd, 3 = 3rd\n",
    "sex|\tSex|\t\n",
    "Age|\tAge in years\t|\n",
    "sibsp|\t# of siblings / spouses aboard the Titanic\t|\n",
    "parch|\t# of parents / children aboard the Titanic\t|\n",
    "ticket|\tTicket number\t|\n",
    "fare|\tPassenger fare\t|\n",
    "cabin|\tCabin number\t|\n",
    "embarked|\tPort of Embarkation\tC = Cherbourg, Q = Queenstown, S = Southampton|\n",
    "\n",
    "\n",
    "Variable Notes\n",
    "\n",
    "pclass: A proxy for socio-economic status (SES)\n",
    "1st = Upper\n",
    "2nd = Middle\n",
    "3rd = Lower\n",
    "\n",
    "age: Age is fractional if less than 1. If the age is estimated, is it in the form of xx.5\n",
    "\n",
    "sibsp: The dataset defines family relations in this way...\n",
    "Sibling = brother, sister, stepbrother, stepsister\n",
    "Spouse = husband, wife (mistresses and fiancés were ignored)\n",
    "\n",
    "parch: The dataset defines family relations in this way...\n",
    "Parent = mother, father\n",
    "Child = daughter, son, stepdaughter, stepson\n",
    "Some children travelled only with a nanny, therefore parch=0 for them."
   ]
  },
  {
   "cell_type": "markdown",
   "metadata": {},
   "source": [
    "Päätät tehdä analyysin edellisen tehtäväsi tapaan Python-ohjelmointikielellä. Muistat, että Pythonissa oli kätevä kirjasto datankäsittelyyn, joten päätät hakea sen työtilaasi"
   ]
  },
  {
   "cell_type": "code",
   "execution_count": null,
   "metadata": {},
   "outputs": [],
   "source": [
    "import ___ as pd"
   ]
  },
  {
   "cell_type": "code",
   "execution_count": null,
   "metadata": {},
   "outputs": [],
   "source": [
    "# olettaa, että datasetti tallennettu samaan kansioon, kun tämä muistikirja. jos näin ei ole, muokkaa\n",
    "df_orig = pd.read_csv(\"train.csv\")"
   ]
  },
  {
   "cell_type": "markdown",
   "metadata": {},
   "source": [
    "Haluat saada käsityksen siitä, miltä datasetti näyttää. Tulostat sitä varten osan datasetistä ruudullesi. (Tähän on useampi tapa ja voit valita mieleisesi täysin vapaasti.)"
   ]
  },
  {
   "cell_type": "code",
   "execution_count": null,
   "metadata": {},
   "outputs": [],
   "source": [
    "df_orig.___()"
   ]
  },
  {
   "cell_type": "markdown",
   "metadata": {},
   "source": [
    "Haluat saada tarkemman käsityksen muuttujista, joten päätät tulostaa datakehyksen tietoja. (Tähän ei jälleen ole yhtä ja oikeaa vastausta.)"
   ]
  },
  {
   "cell_type": "code",
   "execution_count": null,
   "metadata": {},
   "outputs": [],
   "source": [
    "df_orig.___"
   ]
  },
  {
   "cell_type": "code",
   "execution_count": null,
   "metadata": {},
   "outputs": [],
   "source": [
    "df_orig.info()"
   ]
  },
  {
   "cell_type": "markdown",
   "metadata": {},
   "source": [
    "Muistat, että aiempi projektisi oli melko haasteellinen, koska luokkasi olivat epätasapainossa. Päätätkin tarkastella selviytyneiden määrää datakehikossasi suhteessa niihin, jotka eivät selviytyneet."
   ]
  },
  {
   "cell_type": "code",
   "execution_count": null,
   "metadata": {},
   "outputs": [],
   "source": [
    "# rakennetaan taulukko selvinneistä niin, että se tulostuu siistissä muodossa\n",
    "# valitaan datakehyksestä muuttuja sopiva muuttuja ja lasketaan nollien ja ykkösten määrä \n",
    "taulukko = pd.crosstab(index = df_orig['___'], columns = 'count')\n",
    "\n",
    "# nimetään taulukon osat niin, että lopputulos on hyvin ymmärrettävissä\n",
    "taulukko.columns = ['lukumäärä']\n",
    "taulukko.index = ['selvisi', 'ei selvinnyt']\n",
    "\n",
    "# tulostetaan vielä valmis taulukko\n",
    "taulukko"
   ]
  },
  {
   "cell_type": "markdown",
   "metadata": {},
   "source": [
    "Haluat vielä hahmottaa suhdelukua tarkemmin, joten päätät piirtää kuvan."
   ]
  },
  {
   "cell_type": "code",
   "execution_count": null,
   "metadata": {},
   "outputs": [],
   "source": [
    "import matplotlib.pyplot as plt\n",
    "import seaborn as sns\n",
    "\n",
    "sns.set()"
   ]
  },
  {
   "cell_type": "code",
   "execution_count": null,
   "metadata": {},
   "outputs": [],
   "source": [
    "# valitse sopiva kuvatyyppi, muuttuja ja datasetin nimi\n",
    "sns.___(x = '___', data = ___)\n",
    "plt.show()"
   ]
  },
  {
   "cell_type": "markdown",
   "metadata": {},
   "source": [
    "Katsot datakehyksen tietoja, jotka olit tulostanut aiemmin ja pohdit, ovatko kaikki muuttujat hyödyllisiä analyysissasi. Ainakaan matkustajatunnus tai nimi eivät vaikuta hyödyllisiltä, joten päätät poistaa ne. (Mallivastauksessa on poistettu myös lähtösatama.) "
   ]
  },
  {
   "cell_type": "code",
   "execution_count": null,
   "metadata": {},
   "outputs": [],
   "source": [
    "# datakehyksestä on tässä vaiheessa otettu kopio\n",
    "df = df_orig.drop(['___', '___', '___'], axis = 1)"
   ]
  },
  {
   "cell_type": "markdown",
   "metadata": {},
   "source": [
    "Huomaat myös, että datassa on puuttuvia arvoja iän hyttitietojen kohdalla. Tehtävässä on korvattu iän kohdalta keskiarvolla ja päätelty, että hytin kohdalla puuttuva tieto tarkoittaa kansipaikkaa tai vastaavaa. Tätä varten on luotu uusi luokka. Myös muut vaihtoehdot ja tarkempi katsaus dataan ovat suositeltavia, mahdollisesti lisätehtävänä myöhemmin."
   ]
  },
  {
   "cell_type": "code",
   "execution_count": null,
   "metadata": {},
   "outputs": [],
   "source": [
    "df['Age'] = df['Age'].fillna(df['Age'].mean())\n",
    "df['Cabin'] = df['Cabin'].fillna('None')"
   ]
  },
  {
   "cell_type": "markdown",
   "metadata": {},
   "source": [
    "Seuraavaksi huomaat, että osa muuttujista on kategorisia ja ne ovat datakehyksessä objekteina. Nämä kaipaavat hieman käsittelyä. Kategoriset muuttujat muutetaan regressioanalyysia varten dummy-muuttujiksi (käytetään myös termiä one hot encoding). Dummy-muuttuja saa arvon 1, jos havainto kuuluu johonkin luokkaan ja arvon 0, jos se ei kuulu. Tämä on tehty valmiiksi, mutta huolehdithan siitä, että jäljellä ovat samat muuttujat kun mallivastauksessa."
   ]
  },
  {
   "cell_type": "code",
   "execution_count": null,
   "metadata": {},
   "outputs": [],
   "source": [
    "df = pd.get_dummies(df, columns = ['Pclass', 'Sex', 'Ticket', 'Cabin'],   # muuttujien nimet\n",
    "                   prefix = ['Pclass', 'Sex', 'Ticket', 'Cabin'])         # vastaavien dummy-muuttujien nimet"
   ]
  },
  {
   "cell_type": "markdown",
   "metadata": {},
   "source": [
    "Katsotaanpa taas, miltä näyttää"
   ]
  },
  {
   "cell_type": "code",
   "execution_count": null,
   "metadata": {},
   "outputs": [],
   "source": [
    "df.___()"
   ]
  },
  {
   "cell_type": "code",
   "execution_count": null,
   "metadata": {},
   "outputs": [],
   "source": [
    "df.___()"
   ]
  },
  {
   "cell_type": "markdown",
   "metadata": {},
   "source": [
    "Nyt olet valmis aloittamaan mallin kehittämisen. Ensimmäinen tehtäväsi on jakaa malli harjoitus- ja testidataan. Muistat myös, että alkuperäinen data saattaa olla järjestyksessä ja päätät sekoittaa sen."
   ]
  },
  {
   "cell_type": "code",
   "execution_count": null,
   "metadata": {},
   "outputs": [],
   "source": [
    "# hae datan sekoittamiseen tarvittava moduuli\n",
    "from sklearn.utils import ___"
   ]
  },
  {
   "cell_type": "code",
   "execution_count": null,
   "metadata": {},
   "outputs": [],
   "source": [
    "# sekoitetaan datakehys\n",
    "df = ___(df)\n",
    "\n",
    "# erota selviytymistä kuvaava muuttuja datakehyksestä omaksi vektorikseen ja poista se datakehyksestä\n",
    "Y = df[['___']].values.ravel()\n",
    "X = df.___(['___'], axis = 1)\n",
    "\n",
    "# muodostetaan harjoitus- ja testidata\n",
    "Ytrain = Y[:int(0.8*len(Y))]\n",
    "Ytest = Y[int(0.8*len(Y)):]\n",
    "\n",
    "Xtrain = X[:int(0.8*len(Y))]\n",
    "Xtest = X[int(0.8*len(Y)):]"
   ]
  },
  {
   "cell_type": "markdown",
   "metadata": {},
   "source": [
    "Tarkasta, että datasetti näyttää siltä, miltä pitääkin. Tähän ei jälleen ole yhtä oikeaa tapaa, mutta koko datakehyksen tulostamista näytölle ei suositella."
   ]
  },
  {
   "cell_type": "code",
   "execution_count": null,
   "metadata": {},
   "outputs": [],
   "source": [
    "___"
   ]
  },
  {
   "cell_type": "code",
   "execution_count": null,
   "metadata": {},
   "outputs": [],
   "source": [
    "___"
   ]
  },
  {
   "cell_type": "markdown",
   "metadata": {},
   "source": [
    "Haet sklearninsta sopivan kirjaston (tämä on tehty valmiiksi) ja estimoit mallin harjoitusdatalla."
   ]
  },
  {
   "cell_type": "code",
   "execution_count": null,
   "metadata": {},
   "outputs": [],
   "source": [
    "from sklearn.linear_model import LogisticRegression\n",
    "logreg = LogisticRegression();"
   ]
  },
  {
   "cell_type": "code",
   "execution_count": null,
   "metadata": {},
   "outputs": [],
   "source": [
    "# argumenteiksi testijoukon eksogeeniset ja endogeeninen muuttuja \n",
    "logreg.fit(___, ___)"
   ]
  },
  {
   "cell_type": "markdown",
   "metadata": {},
   "source": [
    "Päätät testata mallia aluksi valitsemalla vain pari ensimmäistä havaintoa ja ennustamalla näiden kohtaloa."
   ]
  },
  {
   "cell_type": "code",
   "execution_count": null,
   "metadata": {},
   "outputs": [],
   "source": [
    "logreg.predict(___[0:3])"
   ]
  },
  {
   "cell_type": "markdown",
   "metadata": {},
   "source": [
    "Vertaat mallin antamaa ennustetta matkustajien todelliseen kohtaloon"
   ]
  },
  {
   "cell_type": "code",
   "execution_count": null,
   "metadata": {},
   "outputs": [],
   "source": [
    "___[:3]"
   ]
  },
  {
   "cell_type": "markdown",
   "metadata": {},
   "source": [
    "Mallisi näyttäisi toimivan, joten päätät selvittää tarkemmin, miten hyvin se toimii. Ajat siis mallin koko testijoukolle"
   ]
  },
  {
   "cell_type": "code",
   "execution_count": null,
   "metadata": {},
   "outputs": [],
   "source": [
    "pred = logreg.___(___)"
   ]
  },
  {
   "cell_type": "markdown",
   "metadata": {},
   "source": [
    "Lasket ensin mallin tarkkuuden eli todennäköisyyden, jolla se ennustaa matkustajan kohtalon oikein."
   ]
  },
  {
   "cell_type": "code",
   "execution_count": null,
   "metadata": {},
   "outputs": [],
   "source": [
    "# valitse muuttujalle jokin sopiva nimi ja tulosta se näytölle\n",
    "___ = logreg.___(Xtest, Ytest)\n",
    "___"
   ]
  },
  {
   "cell_type": "markdown",
   "metadata": {},
   "source": [
    "Edellisestä tehtävästäsi muistat, että on hyvä tarkastaa, että malli todella ennustaa molempia mahdollisia tulemia oikein. Tämän selvittämiseksi päätät laskea mallin konfuusiomatriisin."
   ]
  },
  {
   "cell_type": "code",
   "execution_count": null,
   "metadata": {},
   "outputs": [],
   "source": [
    "from sklearn import metrics\n",
    "# lisää argumenteiksi testijoukon tulemat sekä mallisi antama ennuste\n",
    "cmat = metrics.confusion_matrix(___, ___)\n",
    "cmat"
   ]
  },
  {
   "cell_type": "markdown",
   "metadata": {},
   "source": [
    "Mallisi näyttää mielestäsi huomattavasti tasapainoisemmalta kun edellisellä kerralla. Päätät kuitenkin havainnollistaa asiaa lämpökartan avulla."
   ]
  },
  {
   "cell_type": "code",
   "execution_count": null,
   "metadata": {},
   "outputs": [],
   "source": [
    "sns.___(___, annot = True, linewidths = .2)\n",
    "\n",
    "plt.ylabel('Selvinneet', fontsize = 14)\n",
    "plt.xlabel('Ennuste', fontsize = 14)\n",
    "plt.show()"
   ]
  },
  {
   "cell_type": "markdown",
   "metadata": {},
   "source": [
    "Olet varsin tyytyväinen lämpökarttasi värimaailmaan, mutta haluat varmistua mallisi toimintakyvystä. Muistat, että mallin toimintakykyä pystyi hahmottamaan ROC-käyrän avulla ja että malli oli erityisen hyvä, jos tämä käyrä oli lähellä vasenta ylänurkkaa. Piirrät siis kyseisen käyrän"
   ]
  },
  {
   "cell_type": "code",
   "execution_count": null,
   "metadata": {},
   "outputs": [],
   "source": [
    "# lisää argumenteiksi testijoukon tulemat sekä mallisi antama ennuste\n",
    "fpr, tpr, thresholds = metrics.roc_curve(___, ___)\n",
    "\n",
    "plt.plot(fpr, tpr); plt.xlim([0.0,1.0]); plt.ylim([0.0,1.0])\n",
    "plt.title('Titanic-mallin ROC-käyrä', fontsize = 14)\n",
    "plt.xlabel('Väärät hälytykset (1 - tarkkuus)', fontsize = 14)\n",
    "plt.ylabel('Herkkyys', fontsize = 14)\n",
    "plt.grid(True)\n",
    "plt.show()"
   ]
  },
  {
   "cell_type": "markdown",
   "metadata": {},
   "source": [
    "Lopuksi päätät myös laskea käyrän alapuolisen alan, koska muistat, että se antoi mittarin mallin toimintakyvylle"
   ]
  },
  {
   "cell_type": "code",
   "execution_count": null,
   "metadata": {},
   "outputs": [],
   "source": [
    "# lisää argumenteiksi testijoukon tulemat sekä mallisi antama ennuste\n",
    "metrics.roc_auc_score(___, ___)"
   ]
  },
  {
   "cell_type": "code",
   "execution_count": null,
   "metadata": {},
   "outputs": [],
   "source": []
  },
  {
   "cell_type": "markdown",
   "metadata": {},
   "source": [
    "# Lisätehtävä: kysymyksiä"
   ]
  },
  {
   "cell_type": "markdown",
   "metadata": {},
   "source": [
    "1. Miten mallin tarkkuus ja AUC suhteutuvat edelliseen malliin? Kumpi malleista on parempi?"
   ]
  },
  {
   "cell_type": "markdown",
   "metadata": {},
   "source": []
  },
  {
   "cell_type": "markdown",
   "metadata": {},
   "source": [
    "2. Olet jakanut mallisi harjoitus- ja testidataan, jolloin voit testata mallisi toimintakykyä datalla, jota mallisi ei vielä ole nähnyt. Datasettisi on kuitenkin jollain tasolla hyvinkin spesifi. Pohdi, millaisten olosuhteiden vallitessa kyseistä mallia voi käyttää ennustamiseen. Jos kysymys tuntuu liian hassulta, pohdi asiaa jossain muussa yhteydessä, esimerkiksi pankin asuntolainapäätösten osalta."
   ]
  },
  {
   "cell_type": "markdown",
   "metadata": {},
   "source": []
  },
  {
   "cell_type": "markdown",
   "metadata": {},
   "source": [
    "3. Pohdi seuraavia asioita, kuvien piirtämisestä voi olla apua:\n",
    "    * Kuka tai minkälaiset ihmiset selviävät datan mukaan onnettomuudesta todennäköisimmin?\n",
    "    * Mitä tämä tarkoittaa vakuutusyhtiön kannalta? Kenelle kannattaa tarjota henkivakuutusta?\n",
    "    * Onko tällä yhteiskunnallista merkitystä ja voiko samanlaista ilmiötä havaita muualla/ nyky-yhteiskunnassamme?"
   ]
  },
  {
   "cell_type": "markdown",
   "metadata": {},
   "source": []
  },
  {
   "cell_type": "code",
   "execution_count": null,
   "metadata": {},
   "outputs": [],
   "source": []
  },
  {
   "cell_type": "markdown",
   "metadata": {},
   "source": [
    "# Lisätehtävä: analyysi uudella datalla"
   ]
  },
  {
   "cell_type": "markdown",
   "metadata": {},
   "source": [
    "Toista analyysi Kagglen sivuilta löytyvällä testidatalla. Testidatassa ei ole tietoa selviämisestä, mutta sen avulla näet, millaista on ennustaa mallin avulla uutta datasettiä, kun et voi olla varma mallin suoriutumisesta."
   ]
  },
  {
   "cell_type": "code",
   "execution_count": null,
   "metadata": {},
   "outputs": [],
   "source": [
    "test = pd.read_csv(\"test.csv\")"
   ]
  },
  {
   "cell_type": "code",
   "execution_count": null,
   "metadata": {},
   "outputs": [],
   "source": [
    "test.head()"
   ]
  },
  {
   "cell_type": "markdown",
   "metadata": {},
   "source": [
    "# Bonustehtävä: Kaggle"
   ]
  },
  {
   "cell_type": "markdown",
   "metadata": {},
   "source": [
    "Osallistu kilpailuun Kagglen sivuilla. Ryhmien muodostaminen on suositeltavaa."
   ]
  },
  {
   "cell_type": "code",
   "execution_count": null,
   "metadata": {},
   "outputs": [],
   "source": []
  }
 ],
 "metadata": {
  "kernelspec": {
   "display_name": "Python 3",
   "language": "python",
   "name": "python3"
  },
  "language_info": {
   "codemirror_mode": {
    "name": "ipython",
    "version": 3
   },
   "file_extension": ".py",
   "mimetype": "text/x-python",
   "name": "python",
   "nbconvert_exporter": "python",
   "pygments_lexer": "ipython3",
   "version": "3.6.5"
  }
 },
 "nbformat": 4,
 "nbformat_minor": 2
}
