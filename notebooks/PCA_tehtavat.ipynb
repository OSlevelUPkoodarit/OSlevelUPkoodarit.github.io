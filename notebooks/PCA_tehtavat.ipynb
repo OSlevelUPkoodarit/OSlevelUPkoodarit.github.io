{
 "cells": [
  {
   "cell_type": "markdown",
   "metadata": {},
   "source": [
    "# PCA tehtävät: Viiniesimerkki jatkuu"
   ]
  },
  {
   "cell_type": "markdown",
   "metadata": {},
   "source": [
    "Jatketaan näin pikkujoulukaudella viiniersimerkin parissa. Olet data scientistinä saanut tehtäväksesi selvittää viinien tuoteselosteesta löytyvien ominaisuuksien perusteella, voisiko niitä jakaa jollakin tapaa erilaisiin asiakas tai kuluttajasegmentteihin. Toisinsanottuna, tehtäväsi on selvittää esimerkkidatan avulla, onko viiniaineistossasi sellaista sisäistä rakennetta, joka mahdollistaa asiakassegmentoinnin."
   ]
  },
  {
   "cell_type": "code",
   "execution_count": null,
   "metadata": {
    "collapsed": true
   },
   "outputs": [],
   "source": [
    "# Tuodaan tarvittavat kirjastot\n",
    "# TODO: Kertaus on opintojen äiti... Lisää kirjastojen nimet!\n",
    "%matplotlib inline\n",
    "import ___ as np\n",
    "import ___ as pd\n",
    "import ___ as plt\n",
    "import ___ as sns; sns.set()"
   ]
  },
  {
   "cell_type": "code",
   "execution_count": null,
   "metadata": {
    "collapsed": true
   },
   "outputs": [],
   "source": [
    "# Tuodaan datasetti\n",
    "df = pd.read_csv('Wine.csv')"
   ]
  },
  {
   "cell_type": "code",
   "execution_count": null,
   "metadata": {},
   "outputs": [],
   "source": [
    "# TODO: Tulostetaan datakehyksen ensimmäiset tai viimeiset rivit\n",
    "df.___()"
   ]
  },
  {
   "cell_type": "code",
   "execution_count": null,
   "metadata": {},
   "outputs": [],
   "source": [
    "# TODO: Tulostetaan datakehyksen muoto\n",
    "df.___"
   ]
  },
  {
   "cell_type": "code",
   "execution_count": null,
   "metadata": {},
   "outputs": [],
   "source": [
    "# TODO: Tulostetaan infoa datakehyksestä\n",
    "df.___"
   ]
  },
  {
   "cell_type": "code",
   "execution_count": null,
   "metadata": {
    "collapsed": true
   },
   "outputs": [],
   "source": [
    "# Piirrellään seuraavaksi kuvia eri muuttujista, jotta ymmärrämme dataa hieman paremmin"
   ]
  },
  {
   "cell_type": "code",
   "execution_count": null,
   "metadata": {},
   "outputs": [],
   "source": [
    "# TODO: Piirrä kuva, jolla pystyt havainnollistamaan muuttujaa Customer_Segment, esim. kuinka monta havaintoa kustakin\n",
    "# kategoriasta\n",
    "sns.___(x = 'Customer_Segment', data = ___)\n",
    "plt.show()"
   ]
  },
  {
   "cell_type": "code",
   "execution_count": null,
   "metadata": {},
   "outputs": [],
   "source": [
    "# TODO: Piirrellään vielä boxplotti Alkoholipitoisuudesta:\n",
    "sns.___(data = ___, y = 'Alcohol')"
   ]
  },
  {
   "cell_type": "code",
   "execution_count": null,
   "metadata": {},
   "outputs": [],
   "source": [
    "# TODO: Toistetaan sama muuttujalle 'Color_Intensity'.\n",
    "sns.___(data = ___, y = ___)"
   ]
  },
  {
   "cell_type": "code",
   "execution_count": null,
   "metadata": {},
   "outputs": [],
   "source": [
    "# TODO: Yritetään saada jonkinlainen kokonaiskäsitys tilanteesta ja piirrellään lopuksi \n",
    "# parittaiset kuvat vielä kaikkien muuttujien kesken. \n",
    "# HUOM: Kuvan syntymisessä menee luultavasti hetki!\n",
    "sns.___(___)\n",
    "plt.show()"
   ]
  },
  {
   "cell_type": "code",
   "execution_count": null,
   "metadata": {},
   "outputs": [],
   "source": [
    "# TODO: Lasketaan seuraavaksi korrelaatiomatriisi\n",
    "corr = df.___()\n",
    "corr"
   ]
  },
  {
   "cell_type": "code",
   "execution_count": null,
   "metadata": {},
   "outputs": [],
   "source": [
    "# TODO: Piirretään korrelaatioista heatmap-kuva, jotta ymmärrämme hieman tuloksia\n",
    "sns.___(corr)\n",
    "\n",
    "plt.xticks(range(len(corr.columns)), corr.columns)\n",
    "plt.yticks(range(len(corr.columns)), corr.columns)\n",
    "\n",
    "plt.show()"
   ]
  },
  {
   "cell_type": "code",
   "execution_count": null,
   "metadata": {
    "collapsed": true
   },
   "outputs": [],
   "source": [
    "# Huomaatko jotain merkillepantavaa eri muuttujien välisissä korrelaatioissa?"
   ]
  },
  {
   "cell_type": "code",
   "execution_count": null,
   "metadata": {},
   "outputs": [],
   "source": [
    "# TODO: Jaetaan muuttujat vielä kahteen osaan: Selittäviin ja selitettävään. \n",
    "# Tällä kertaa olemme kiinnostuneita erityisesti viinin kuluttajasegmentistä. \n",
    "# Tallennetaan se siis omaan muuttujaansa y, ja jätetään muut muuttujat kehykseen X.\n",
    "\n",
    "X = df.___(['Customer_Segment'], axis = 1)\n",
    "y = df.___"
   ]
  },
  {
   "cell_type": "code",
   "execution_count": null,
   "metadata": {},
   "outputs": [],
   "source": [
    "# Varmistetaan vielä, että muoto oli oikea\n",
    "X.shape"
   ]
  },
  {
   "cell_type": "code",
   "execution_count": null,
   "metadata": {},
   "outputs": [],
   "source": [
    "# Ja y:n pituus oli sama kuin X:n havaintojen määrä\n",
    "len(y)"
   ]
  },
  {
   "cell_type": "code",
   "execution_count": null,
   "metadata": {
    "collapsed": true
   },
   "outputs": [],
   "source": [
    "# Tuodaan PCA sklearn kirjastosta\n",
    "from sklearn.decomposition import PCA"
   ]
  },
  {
   "cell_type": "code",
   "execution_count": null,
   "metadata": {},
   "outputs": [],
   "source": [
    "# TODO: Tutki kumulatiivista selitetyn varianssin määrää piirtämällä siitä kuvaaja\n",
    "pca = ___.fit(___)\n",
    "plt.plot(np.cumsum(___)\n",
    "plt.xlabel('number of components')\n",
    "plt.ylabel('cumulative explained variance')"
   ]
  },
  {
   "cell_type": "code",
   "execution_count": null,
   "metadata": {},
   "outputs": [],
   "source": [
    "# TODO: Tehdään PCA-sovitus seuraavaksi sekä kahdelle että kolmelle muuttujalle\n",
    "pca_2dim = ___.fit(X)\n",
    "print(pca)"
   ]
  },
  {
   "cell_type": "code",
   "execution_count": null,
   "metadata": {},
   "outputs": [],
   "source": [
    "pca_3dim = ___.fit(X)\n",
    "print(pca)"
   ]
  },
  {
   "cell_type": "code",
   "execution_count": null,
   "metadata": {},
   "outputs": [],
   "source": [
    "# Datan muunnos uusien pääkomponenttien suhteen\n",
    "df_2dim = pca_2dim.___(X)\n",
    "df_3dim = pca_3dim.___(X)"
   ]
  },
  {
   "cell_type": "code",
   "execution_count": null,
   "metadata": {},
   "outputs": [],
   "source": [
    "# Tarkastetaan muoto\n",
    "df_2dim.shape"
   ]
  },
  {
   "cell_type": "code",
   "execution_count": null,
   "metadata": {},
   "outputs": [],
   "source": [
    "df_3dim.shape"
   ]
  },
  {
   "cell_type": "code",
   "execution_count": null,
   "metadata": {},
   "outputs": [],
   "source": [
    "# TODO: Koostetaan lisäksi myös datakehykset uusista muuttujista, \n",
    "# jotta niitä on mukavampi käsitellä kohta kuvia piirreltäessä\n",
    "X_2 = pd.___(df_2dim, columns=['PC1', 'PC2'])\n",
    "X_2.head()"
   ]
  },
  {
   "cell_type": "code",
   "execution_count": null,
   "metadata": {},
   "outputs": [],
   "source": [
    "# TODO\n",
    "X_3 = pd.___(df_3dim, columns=___)\n",
    "X_3.head()"
   ]
  },
  {
   "cell_type": "code",
   "execution_count": null,
   "metadata": {},
   "outputs": [],
   "source": [
    "# TODO: Piirretään kaksiulotteinen kuvaaja (kaksi pääkomponenttia) ja väritetään eri havainnot asiakassegmentin mukaan\n",
    "ax = sns.scatterplot(x=___, y=___, hue=y, style=y,\n",
    "                     data=___)"
   ]
  },
  {
   "cell_type": "code",
   "execution_count": null,
   "metadata": {
    "collapsed": true
   },
   "outputs": [],
   "source": [
    "# Tässä valmis funktio kolmiulotteisen kuvaajan piirtämiseen (kolme pääkomponenttia)\n",
    "from mpl_toolkits.mplot3d import Axes3D\n",
    "def plot_3d(data, xlabel, ylabel, zlabel):\n",
    "    fig = plt.figure()\n",
    "    ax = fig.add_subplot(111, projection='3d')\n",
    "    ax.scatter(data[xlabel], data[ylabel], data[zlabel], c=y, s=60)\n",
    "\n",
    "    ax.set_xlabel(xlabel)\n",
    "    ax.set_ylabel(ylabel)\n",
    "    ax.set_zlabel(zlabel)\n",
    "    plt.show()"
   ]
  },
  {
   "cell_type": "code",
   "execution_count": null,
   "metadata": {},
   "outputs": [],
   "source": [
    "# TODO: Piirrä kuvaaja kutsuen edellä annettua fuktiota. Koska kyseessä on kolmiulotteinen kuva, \n",
    "# kannattaa se piirrellä ainakin parilla eri tavalla, vaihtamalla akseleita keskenään. Näin saat paremman\n",
    "# käsityksen havaintojen jakautumisesta eri akseleiden suhteen.\n",
    "\n",
    "plot_3d(___)"
   ]
  },
  {
   "cell_type": "code",
   "execution_count": null,
   "metadata": {},
   "outputs": [],
   "source": [
    "# TODO: Kierrä kuvaa vaihtamalla joitakin akseleita keskenään\n",
    "plot_3d(___)"
   ]
  },
  {
   "cell_type": "markdown",
   "metadata": {},
   "source": [
    "# Lisätehtäviä:\n",
    "\n",
    "1) Miten arvioit saamiasi tuloksia? Löytyykö datasta sellaista sisäistä rakennetta, joka mahdollistaisi segmentoinnin?\n",
    "\n",
    "2) Kokeile käyttää samaa dataa aikaisemmalla kerralla opittuun klusterointiin. Saatko samankaltaisia tuloksia kuin\n",
    "PCA:n avulla?\n",
    "\n",
    "3) Pohdi voisitko jotenkin ennustaa asiakassegmenttiä."
   ]
  },
  {
   "cell_type": "code",
   "execution_count": null,
   "metadata": {
    "collapsed": true
   },
   "outputs": [],
   "source": []
  }
 ],
 "metadata": {
  "kernelspec": {
   "display_name": "Python 3",
   "language": "python",
   "name": "python3"
  },
  "language_info": {
   "codemirror_mode": {
    "name": "ipython",
    "version": 3
   },
   "file_extension": ".py",
   "mimetype": "text/x-python",
   "name": "python",
   "nbconvert_exporter": "python",
   "pygments_lexer": "ipython3",
   "version": "3.6.2"
  }
 },
 "nbformat": 4,
 "nbformat_minor": 2
}
