{
 "cells": [
  {
   "cell_type": "markdown",
   "metadata": {},
   "source": [
    "# Lineaarinen regressio: tehtävä"
   ]
  },
  {
   "cell_type": "markdown",
   "metadata": {},
   "source": [
    "Olet töissä ison yrityksen markkinointiosastolla myynnin tukena ja osastosi suunnittelee markkinointikampanjoita, jotka on tarkoitus ohjata eri kanavien kautta. Sinulla on tietoa myynnistä ja eri markkinointikampanjoista. Tehtäväsi on kehittää myynnin ennustamismalli. Mallin on tarkoitus toimia myynnin suunnittelu tukena ja antaa tietoa siitä, kuinka paljon myyntiä voidaan odottaa, jos markkinointiin käytettään tietty määrä rahaa kunkin kanavan kautta."
   ]
  },
  {
   "cell_type": "code",
   "execution_count": null,
   "metadata": {},
   "outputs": [],
   "source": [
    "# tuodaan datankäsittelyyn vaadittava kirjasto\n",
    "import ___ as pd"
   ]
  },
  {
   "cell_type": "code",
   "execution_count": null,
   "metadata": {},
   "outputs": [],
   "source": [
    "# datan lataaminen vaatii nettiyhteyden\n",
    "df = pd.read_csv('http://www-bcf.usc.edu/~gareth/ISL/Advertising.csv', index_col = 0)"
   ]
  },
  {
   "cell_type": "code",
   "execution_count": null,
   "metadata": {},
   "outputs": [],
   "source": [
    "# tutkiskellaan dataa tulostamalla vaikka ensimmäiset tai viimeiset rivit datakehyksestä\n",
    "df.___()"
   ]
  },
  {
   "cell_type": "code",
   "execution_count": null,
   "metadata": {},
   "outputs": [],
   "source": [
    "# katsotaan datakehyksen muoto\n",
    "df.___"
   ]
  },
  {
   "cell_type": "code",
   "execution_count": null,
   "metadata": {},
   "outputs": [],
   "source": [
    "# tulostetaan vielä datakehyksen tiedot\n",
    "df.___()"
   ]
  },
  {
   "cell_type": "markdown",
   "metadata": {},
   "source": [
    "Ennen kuin alotat mallin kehittämisen, haluat saada käsityksen datasta. Valitset tätä varten sopivat kirjastot ja piirrät pari kuvaa. (Enemmänkin saa piirtää - tämä on jopa suositeltavaa.)"
   ]
  },
  {
   "cell_type": "code",
   "execution_count": null,
   "metadata": {},
   "outputs": [],
   "source": [
    "import ___ as sns\n",
    "import matplotlib.___ as plt\n",
    "\n",
    "sns.set()"
   ]
  },
  {
   "cell_type": "code",
   "execution_count": null,
   "metadata": {},
   "outputs": [],
   "source": [
    "# piirrä muuttujista parittaiset kuvat. pohdi jo tässä vaiheessä, mitä odotat mallilta\n",
    "sns.___(df)\n",
    "\n",
    "plt.show()"
   ]
  },
  {
   "cell_type": "code",
   "execution_count": null,
   "metadata": {
    "scrolled": true
   },
   "outputs": [],
   "source": [
    "# piirrä parikuvat muuttujista myyntiä vasten. lisää kuviin regressiosuora. \n",
    "# selventääkö tämä odotuksiasi mallin suhteen?\n",
    "sns.___(df, x_vars = ['TV', 'radio', 'newspaper'], y_vars = '___', \n",
    "             height = 5, aspect = 0.7, \n",
    "             kind = '___')\n",
    "plt.show()"
   ]
  },
  {
   "cell_type": "markdown",
   "metadata": {},
   "source": [
    "Seuraavaksi varmistat, että selittävien muuttujien välillä ei ole liian suurta korrelaatiota."
   ]
  },
  {
   "cell_type": "code",
   "execution_count": null,
   "metadata": {},
   "outputs": [],
   "source": [
    "# laske korrelaatiomatriisi\n",
    "corr = df.___()\n",
    "corr"
   ]
  },
  {
   "cell_type": "code",
   "execution_count": null,
   "metadata": {},
   "outputs": [],
   "source": [
    "# havainnollista vielä varmuuden vuoksi tilannetta lämpökartan avulla\n",
    "sns.___(corr)\n",
    "\n",
    "plt.___(range(len(corr.columns)), corr.columns)\n",
    "plt.yticks(range(len(corr.columns)), corr.columns)\n",
    "\n",
    "plt.show()"
   ]
  },
  {
   "cell_type": "markdown",
   "metadata": {},
   "source": [
    "Datasi näyttää melko lupaavalta, joten siirryt valmistelemaan sitä oikeaan muotoon analyysia varten. Jaat ensin datan vektoriin, jossa on endogeeninen muuttuja sekä matriisiin, johon tulevat eksogeeniset muuttujat. Tarkastetaan, että näyttää siltä, miltä pitää."
   ]
  },
  {
   "cell_type": "code",
   "execution_count": null,
   "metadata": {},
   "outputs": [],
   "source": [
    "X = ___\n",
    "y = df.___"
   ]
  },
  {
   "cell_type": "code",
   "execution_count": null,
   "metadata": {},
   "outputs": [],
   "source": [
    "# tulostetaan taas ensimmäiset tai viimeiset rivit\n",
    "X.___()"
   ]
  },
  {
   "cell_type": "code",
   "execution_count": null,
   "metadata": {},
   "outputs": [],
   "source": [
    "# malli ottaa eksogeeniset muuttujat pandas-datakehyksenä\n",
    "# tarkastetaan, että tämä pätee\n",
    "___(X)"
   ]
  },
  {
   "cell_type": "code",
   "execution_count": null,
   "metadata": {},
   "outputs": [],
   "source": [
    "# tsekataan vielä varmuuden vuoksi muoto\n",
    "X.___"
   ]
  },
  {
   "cell_type": "code",
   "execution_count": null,
   "metadata": {},
   "outputs": [],
   "source": [
    "# tulosta ensimmäiset tai viimeiset rivit\n",
    "# huomaathan, että tämä näyttää erilaiselta\n",
    "y.___()"
   ]
  },
  {
   "cell_type": "code",
   "execution_count": null,
   "metadata": {},
   "outputs": [],
   "source": [
    "# tarkastetaan muuttujan tyyppi\n",
    "# malli hyväksyy endogeenisena muuttujana esim. pandas-sarjoja\n",
    "___(y)"
   ]
  },
  {
   "cell_type": "code",
   "execution_count": null,
   "metadata": {},
   "outputs": [],
   "source": [
    "# tarkastetaan taas muuttujan muoto. huomaathan eron X:n muotoon?\n",
    "y.___"
   ]
  },
  {
   "cell_type": "markdown",
   "metadata": {},
   "source": [
    "Ennen kun voit alkaa mallintamaan, sinun täytyy vielä jakaa data harjoitus- ja testijoukkoon. Tuo tätä varten sopivasta kirjastosta tarvittava metodi ja jaa data joukkoihin valmiin menetelmän avulla."
   ]
  },
  {
   "cell_type": "code",
   "execution_count": null,
   "metadata": {},
   "outputs": [],
   "source": [
    "from ___.model_selection import ___"
   ]
  },
  {
   "cell_type": "code",
   "execution_count": null,
   "metadata": {},
   "outputs": [],
   "source": [
    "X_train, X_test, y_train, y_test = ___(___, ___, random_state = 42)"
   ]
  },
  {
   "cell_type": "markdown",
   "metadata": {},
   "source": [
    "Nyt olet valmis aloittamaan mallinnuksen. Aloitat lineaarisella regressiolla. Tuot `sklearn.linear_model`-kirjastosta sopivan menetelmän ja luot malliolion."
   ]
  },
  {
   "cell_type": "code",
   "execution_count": null,
   "metadata": {},
   "outputs": [],
   "source": [
    "from ___.linear_model import ___\n",
    "\n",
    "linreg = ___()"
   ]
  },
  {
   "cell_type": "markdown",
   "metadata": {},
   "source": [
    "Seuraavaksi malli täytyy sovittaa harjoitusdataan ennusteiden tekemistä varten."
   ]
  },
  {
   "cell_type": "code",
   "execution_count": null,
   "metadata": {},
   "outputs": [],
   "source": [
    "linreg.___(___, ___)"
   ]
  },
  {
   "cell_type": "markdown",
   "metadata": {},
   "source": [
    "Pohdit, että oma osasto saattaisi olla kiinnostunut tietämään mainontakanavan vaikutuksesta myyntiin. Stackoverflow:ssa neuvotaan, miten kertoimien arvot saa esiin mallista, joten päätät selvittää asian."
   ]
  },
  {
   "cell_type": "code",
   "execution_count": null,
   "metadata": {},
   "outputs": [],
   "source": [
    "# tulosta vakion arvo\n",
    "linreg.___"
   ]
  },
  {
   "cell_type": "code",
   "execution_count": null,
   "metadata": {},
   "outputs": [],
   "source": [
    "# tee vektori, johon tulee muuttujien nimet. \n",
    "# huolehdi siitä, että järjestys on sama kuin datakehyksessä\n",
    "# muuttujien nimet voi kääntää suomeksi, jos haluaa\n",
    "coef_names = ['___', '___', '___']"
   ]
  },
  {
   "cell_type": "code",
   "execution_count": null,
   "metadata": {},
   "outputs": [],
   "source": [
    "# kerätään muuttujat pareittain listaksi ja tulostetaan lista\n",
    "coefs = zip(coef_names, linreg.___)\n",
    "coefs = list(coefs)\n",
    "\n",
    "coefs"
   ]
  },
  {
   "cell_type": "code",
   "execution_count": null,
   "metadata": {},
   "outputs": [],
   "source": [
    "# visualisoidaan kertoimia horisontaalisen pylväsdigrammin avulla\n",
    "plt.barh(y = X.columns, width = linreg.coef_, height = 0.4)\n",
    "plt.title(\"Lineaarisen regression kertoimien arvot\", fontsize = 14)\n",
    "\n",
    "plt.show()"
   ]
  },
  {
   "cell_type": "markdown",
   "metadata": {},
   "source": [
    "Haluat saada paremman kuvan siitä, miten malli toimii, joten valitset yksittäisiä arvoja testijoukosta ja tuotat niille ennusteen."
   ]
  },
  {
   "cell_type": "code",
   "execution_count": null,
   "metadata": {},
   "outputs": [],
   "source": [
    "# kutsu sopivaa metodia\n",
    "linreg.___(___[0:3])"
   ]
  },
  {
   "cell_type": "code",
   "execution_count": null,
   "metadata": {},
   "outputs": [],
   "source": [
    "# tarkasta vastaavat toteutuneet myynnin arvot ja vertaa näitä ennusteisiin\n",
    "y_test[0:3]"
   ]
  },
  {
   "cell_type": "code",
   "execution_count": null,
   "metadata": {},
   "outputs": [],
   "source": [
    "# voit myös tarkastaa markkinointikustannukset eri kanavien osalta \n",
    "# ja miettiä näiden välisiä eroja\n",
    "X_test[0:3]"
   ]
  },
  {
   "cell_type": "markdown",
   "metadata": {},
   "source": [
    "Seuraavaksi ennustat myynnin koko testijoukolle ja piirrät kuvan, jonka avulla voit verrata mallin antamia ennusteita todelliseen myyntiin."
   ]
  },
  {
   "cell_type": "code",
   "execution_count": null,
   "metadata": {},
   "outputs": [],
   "source": [
    "# valitse sopiva metodi ja argumentti\n",
    "pred = linreg.___(___)"
   ]
  },
  {
   "cell_type": "code",
   "execution_count": null,
   "metadata": {},
   "outputs": [],
   "source": [
    "# valitse sopiva metodi, joka antaa mallin selitysasteen ja tarvittavat argumentit\n",
    "linreg.___(___, ___)"
   ]
  },
  {
   "cell_type": "code",
   "execution_count": null,
   "metadata": {},
   "outputs": [],
   "source": [
    "# piirretään kuva mallin antamista ennusteista ja todellisista arvoista\n",
    "plt.plot(y_test, pred, '.')\n",
    "plt.plot([5, 25], [5, 25], linestyle='--', color = 'red', label = \"oikea arvaus\")\n",
    "plt.xlim([5.0, 25.0]), plt.ylim([5.0, 25.0])\n",
    "\n",
    "plt.title(\"Lineaarisen regression ennuste\", fontsize = 14)\n",
    "plt.xlabel('Todellinen myynti', fontsize = 14)\n",
    "plt.ylabel('Mallin ennustama myynti', fontsize = 14)\n",
    "plt.legend(loc = 4, fontsize = 12)\n",
    "\n",
    "plt.show()"
   ]
  },
  {
   "cell_type": "markdown",
   "metadata": {},
   "source": [
    "Pohdit, ovatko kaikki muuttujasi todella tarpeellisia mallissasi. Pelkäät, että mallisi saattaisi ylisovittaa testidataasi ja päätät siksi turvautua regression säätelymenetelmiin. Aloitat lasso-regressiomallilla."
   ]
  },
  {
   "cell_type": "code",
   "execution_count": null,
   "metadata": {},
   "outputs": [],
   "source": [
    "# hae sopiva kirjasto ja luo malliolio\n",
    "from ___.linear_model import ___\n",
    "lasso = ___()"
   ]
  },
  {
   "cell_type": "code",
   "execution_count": null,
   "metadata": {},
   "outputs": [],
   "source": [
    "# sovita malli harjoitusdatalla\n",
    "lasso.___(___, ___)"
   ]
  },
  {
   "cell_type": "markdown",
   "metadata": {},
   "source": [
    "Muistat, että lasso rankaisee mallia positiivisten kertoimien määrästä. Päätät tulostaa kertoimiesi arvon tarkkaillaksesi tilannetta."
   ]
  },
  {
   "cell_type": "code",
   "execution_count": null,
   "metadata": {},
   "outputs": [],
   "source": [
    "# tulosta vakion arvo\n",
    "lasso.___"
   ]
  },
  {
   "cell_type": "code",
   "execution_count": null,
   "metadata": {},
   "outputs": [],
   "source": [
    "# kerätään muuttujien kertoimet listaksi ja tulostetaan lista\n",
    "coefs = zip(coef_names, lasso.___)\n",
    "coefs = list(coefs)\n",
    "\n",
    "coefs"
   ]
  },
  {
   "cell_type": "code",
   "execution_count": null,
   "metadata": {},
   "outputs": [],
   "source": [
    "# piirretään vielä kuva\n",
    "plt.barh(y = X.columns, width = lasso.___, height = 0.4)\n",
    "plt.title(\"Lasso regression kertoimien arvot\", fontsize = 14)\n",
    "\n",
    "plt.show()"
   ]
  },
  {
   "cell_type": "markdown",
   "metadata": {},
   "source": [
    "Seuraavaksi on aika ennustaa malli koko harjoitusdatalla ja tarkastella sen antaman ennusteen luotettavuutta."
   ]
  },
  {
   "cell_type": "code",
   "execution_count": null,
   "metadata": {},
   "outputs": [],
   "source": [
    "# sijoita mallioliolle sopiva metodi, jolla saat ennusteet koko testijoukolle \n",
    "pred = lasso.___(___)"
   ]
  },
  {
   "cell_type": "code",
   "execution_count": null,
   "metadata": {},
   "outputs": [],
   "source": [
    "# tulosta mallin selitysaste\n",
    "lasso.___(___, ___)"
   ]
  },
  {
   "cell_type": "code",
   "execution_count": null,
   "metadata": {},
   "outputs": [],
   "source": [
    "# piirretään vielä mallin ennustama myynti verrattuna todelliseen myyntiin\n",
    "plt.plot(___, pred, '.')\n",
    "plt.plot([5, 25], [5, 25], linestyle='--', color = 'red', label = \"oikea arvaus\")\n",
    "plt.xlim([5.0, 25.0]), plt.ylim([5.0, 25.0])\n",
    "\n",
    "plt.title(\"Lasso regression ennuste\", fontsize = 14)\n",
    "plt.xlabel('Todellinen myynti', fontsize = 14)\n",
    "plt.ylabel('Mallin ennustama myynti', fontsize = 14)\n",
    "plt.legend(loc = 4, fontsize = 12)\n",
    "\n",
    "plt.show()"
   ]
  },
  {
   "cell_type": "markdown",
   "metadata": {},
   "source": [
    "Haluat myös varmistaa, ettei mallisi anna liian suurta painoarvoa millekään yhdelle muuttujalle. Tämän varmistamiseksi kehität vielä mallin harjanneregressio-menetelmällä."
   ]
  },
  {
   "cell_type": "code",
   "execution_count": null,
   "metadata": {},
   "outputs": [],
   "source": [
    "# hae sopiva kirjasto ja luo malliolio\n",
    "from ___.___ import ___\n",
    "ridge = ___()"
   ]
  },
  {
   "cell_type": "code",
   "execution_count": null,
   "metadata": {},
   "outputs": [],
   "source": [
    "# sovita malli\n",
    "ridge.___(___, ___)"
   ]
  },
  {
   "cell_type": "code",
   "execution_count": null,
   "metadata": {},
   "outputs": [],
   "source": [
    "# tulosta vakio\n",
    "ridge.intercept_"
   ]
  },
  {
   "cell_type": "code",
   "execution_count": null,
   "metadata": {},
   "outputs": [],
   "source": [
    "# tulostetaan kertoimet\n",
    "coefs = zip(coef_names, ridge.coef_)\n",
    "coefs = list(coefs)\n",
    "\n",
    "coefs"
   ]
  },
  {
   "cell_type": "code",
   "execution_count": null,
   "metadata": {},
   "outputs": [],
   "source": [
    "# piirretään kuva\n",
    "plt.barh(y = X.columns, width = ridge.coef_, height = 0.4)\n",
    "plt.title(\"Ridge regression kertoimien arvot\", fontsize = 14)\n",
    "\n",
    "plt.___()"
   ]
  },
  {
   "cell_type": "code",
   "execution_count": null,
   "metadata": {},
   "outputs": [],
   "source": [
    "# tulostetaan mallin selitysaste\n",
    "ridge.___(___, ___)"
   ]
  },
  {
   "cell_type": "markdown",
   "metadata": {},
   "source": [
    "Ennustetaan malli koko datasetille ja tarkastetaan selitysaste."
   ]
  },
  {
   "cell_type": "code",
   "execution_count": null,
   "metadata": {},
   "outputs": [],
   "source": [
    "# valitse sopiva menetelmä mallioliolle\n",
    "pred = ridge.___(___)"
   ]
  },
  {
   "cell_type": "code",
   "execution_count": null,
   "metadata": {},
   "outputs": [],
   "source": [
    "# piirretään kuva\n",
    "plt.plot(y_test, pred, '.')\n",
    "plt.plot([5, 25], [5, 25], linestyle='--', color = 'red', label = \"oikea arvaus\")\n",
    "plt.xlim([5.0, 25.0]), plt.ylim([5.0, 25.0])\n",
    "\n",
    "plt.title(\"Ridge regression ennuste\", fontsize = 14)\n",
    "plt.xlabel('Todellinen myynti', fontsize = 14)\n",
    "plt.ylabel('Mallin ennustama myynti', fontsize = 14)\n",
    "plt.legend(loc = 4, fontsize = 12)\n",
    "\n",
    "plt.show()"
   ]
  },
  {
   "cell_type": "markdown",
   "metadata": {},
   "source": [
    "Piirretään mallien kertoimet samaan kuvaan, jotta saadaan käsitys siitä, miten sääntely vaikuttaa."
   ]
  },
  {
   "cell_type": "code",
   "execution_count": null,
   "metadata": {},
   "outputs": [],
   "source": [
    "import numpy as np"
   ]
  },
  {
   "cell_type": "code",
   "execution_count": null,
   "metadata": {},
   "outputs": [],
   "source": [
    "ind = np.arange(3)\n",
    "\n",
    "fig, ax = plt.subplots()\n",
    "\n",
    "ax.barh(y = ind - 0.2, width = linreg.coef_, height = 0.2, \n",
    "         label = \"Lineaarinen\", color = 'r')\n",
    "ax.barh(y = ind, width = lasso.coef_, height = 0.2, \n",
    "         label = \"Lasso\", color = 'g')\n",
    "\n",
    "ax.barh(y = ind + 0.2, width = ridge.coef_, height = 0.2, \n",
    "         label = \"Ridge\", color = 'b')\n",
    "\n",
    "ax.legend(loc = 4, fontsize = 12)\n",
    "ax.set_title(\"Kertoimien arvojen vertailu\", fontsize = 14)\n",
    "ax.set(yticks = ind + 0.2, yticklabels = coef_names, ylim = [0.4 - 1, 3])\n",
    "\n",
    "plt.show()"
   ]
  },
  {
   "cell_type": "markdown",
   "metadata": {},
   "source": [
    "Myyntiosastolta toivotaan arvioita siitä, kuinka luotettavaksi arviot ennusteesi. Haluat pelata varman päälle ja tarkastaa ennusteesi ristiinvalidointimenetelmän avulla. Pohdit myös, että myyntiosasto arvostaisi erityisesti rahamääräistä arviota. Päätät siis arvioida mallisi tulosta neliövirheen neliöjuuren avulla. Tämä antaa rahamääräisen arvion mallisi mittavirheestä."
   ]
  },
  {
   "cell_type": "code",
   "execution_count": null,
   "metadata": {},
   "outputs": [],
   "source": [
    "from sklearn.model_selection import cross_validate"
   ]
  },
  {
   "cell_type": "code",
   "execution_count": null,
   "metadata": {},
   "outputs": [],
   "source": [
    "# laske vektori, jossa on ristiinvalidoinnin tulokset\n",
    "# valitse haluamasi määrä kierroksia ja sopiva menetelmä\n",
    "cv_tulokset = cross_validate(___, X, y, cv = ___, scoring = '___',\n",
    "                            return_train_score = True)"
   ]
  },
  {
   "cell_type": "code",
   "execution_count": null,
   "metadata": {},
   "outputs": [],
   "source": [
    "# seuraavasta saat muistikirjaasi yllä luomasi vektorin sisällön\n",
    "sorted(cv_tulokset.keys())"
   ]
  },
  {
   "cell_type": "code",
   "execution_count": null,
   "metadata": {},
   "outputs": [],
   "source": [
    "# tulosta oikea tunnusluku\n",
    "cv_tulokset['___']"
   ]
  },
  {
   "cell_type": "code",
   "execution_count": null,
   "metadata": {},
   "outputs": [],
   "source": [
    "# laske tunnusluvulle keskiarvo\n",
    "mse_linreg = - cv_tulokset['___'].___()\n",
    "mse_linreg"
   ]
  },
  {
   "cell_type": "code",
   "execution_count": null,
   "metadata": {},
   "outputs": [],
   "source": [
    "# nyt sinulla on neliövirhe, vielä pitää laskea neliöjuuri\n",
    "rmse_linreg = np.___(mse_linreg)\n",
    "rmse_linreg"
   ]
  },
  {
   "cell_type": "code",
   "execution_count": null,
   "metadata": {},
   "outputs": [],
   "source": [
    "# laske vielä vertailun vuoksi myynnin keskiarvo datasta\n",
    "# tästä saat käsityksen siitä, onko mittavirhe suuri vai pieni\n",
    "y.___()"
   ]
  },
  {
   "cell_type": "markdown",
   "metadata": {},
   "source": [
    "Toistetaan analyysi lasso-regressiolle"
   ]
  },
  {
   "cell_type": "code",
   "execution_count": null,
   "metadata": {},
   "outputs": [],
   "source": [
    "from sklearn.model_selection import cross_val_score"
   ]
  },
  {
   "cell_type": "code",
   "execution_count": null,
   "metadata": {},
   "outputs": [],
   "source": [
    "# valitse muuttujat sekä sopiva menetelmä\n",
    "# valitse sama määrä ristiinvalidointikierroksia kun edellisellä kerralla\n",
    "scores = cross_val_score(___, ___, ___, cv = ___, scoring = '___')\n",
    "scores"
   ]
  },
  {
   "cell_type": "code",
   "execution_count": null,
   "metadata": {},
   "outputs": [],
   "source": [
    "# lasketaan keskiarvo ja otetaan neliöjuuri\n",
    "rmse_lasso = np.___(- scores.___())\n",
    "rmse_lasso"
   ]
  },
  {
   "cell_type": "markdown",
   "metadata": {},
   "source": [
    "Viimeisenä tehtävänäsi on laskea virhearvio harjanneregressiolle ja vertailla malleja, jotta voit päättää, minkä malleista esittelet myyntiosastolle."
   ]
  },
  {
   "cell_type": "code",
   "execution_count": null,
   "metadata": {},
   "outputs": [],
   "source": [
    "# valitse sama määrä ristiinvalidointikierroksia kun edellisissä\n",
    "scores = cross_val_score(___, ___, ___, cv = ___, scoring = '___')\n",
    "scores"
   ]
  },
  {
   "cell_type": "code",
   "execution_count": null,
   "metadata": {},
   "outputs": [],
   "source": [
    "rmse_ridge = np.sqrt(- scores.mean())\n",
    "rmse_ridge"
   ]
  },
  {
   "cell_type": "markdown",
   "metadata": {},
   "source": [
    "Näppituntumasi sanoo, että mallisi pärjäävät melko hyvin. Päätät vielä piirtää kuvan kaikkien mallien antamista mittavirheistä. Ajattelet, että tämä kuva auttaa sinua havainnollistamaan myyntiosastolle, että olet tehnyt huolellista työtä ja tarkastellut useita malleja, jotka antavat samansuuntaisen tuloksen."
   ]
  },
  {
   "cell_type": "code",
   "execution_count": null,
   "metadata": {},
   "outputs": [],
   "source": [
    "plt.barh(y = ['Lineaarinen', 'Lasso', 'Ridge'], \n",
    "         width = [rmse_linreg, rmse_lasso, rmse_ridge], \n",
    "         height = 0.4)\n",
    "\n",
    "plt.xlim([1.735, 1.755])\n",
    "plt.title(\"Mittavirheiden vertailu mallien välillä\", fontsize = 14)\n",
    "\n",
    "plt.show()"
   ]
  },
  {
   "cell_type": "markdown",
   "metadata": {},
   "source": [
    "## Lisätehtävä"
   ]
  },
  {
   "cell_type": "markdown",
   "metadata": {},
   "source": [
    "1. Kuinka yleiseksi arvioisit mallisi? Voidaanko myynnin määrää lisätä aina lisäämällä markkinointiin käytettäviä kustannuksia?\n",
    "2. Kannattaako yrityksen käyttää vain yhtä markkinointikanavaa vai valita useita? Antaako mallisi vastauksen tähän kysymykseen. Miksi ja miksi ei?"
   ]
  },
  {
   "cell_type": "code",
   "execution_count": null,
   "metadata": {},
   "outputs": [],
   "source": []
  }
 ],
 "metadata": {
  "kernelspec": {
   "display_name": "Python 3",
   "language": "python",
   "name": "python3"
  },
  "language_info": {
   "codemirror_mode": {
    "name": "ipython",
    "version": 3
   },
   "file_extension": ".py",
   "mimetype": "text/x-python",
   "name": "python",
   "nbconvert_exporter": "python",
   "pygments_lexer": "ipython3",
   "version": "3.6.6"
  }
 },
 "nbformat": 4,
 "nbformat_minor": 2
}
