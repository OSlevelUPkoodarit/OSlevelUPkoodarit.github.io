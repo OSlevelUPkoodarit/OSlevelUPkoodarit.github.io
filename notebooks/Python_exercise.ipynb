{
 "cells": [
  {
   "cell_type": "markdown",
   "metadata": {},
   "source": [
    "## Osio 1: datan sisäänluku ja tutkiminen\n",
    "Mallia näihin tehtäviin löydät opetusmateriaaleista [datan tutkimisosiosta](Data_exploring.ipynb). Workshopin aikana voit myös pyytää apua paikalla olevilta järjestäjiltä ja tehtäviä voi tehdä esimerkiksi parin kanssa. **Älä epäröi pyytää apua!**\n",
    "\n",
    "Ensimmäisen asiat, jotka tarvitsee tehdä, on tarvittavien kirjastojen importtaaminen ja tiedoston sisään lukeminen. \n",
    "Todennäköisesti tarvittavia kirjastoja ovat pandas, numpy, matplotlib (pyplot) ja sklearn (preprocessing). \n",
    "\n",
    "Käytämme tässä tehtävässä [Kagglesta](https://www.kaggle.com/c/titanic/data) löytyvää datasettiä.\n",
    "\n",
    "Kirjoita alle importit ja käytä sen jälkeen pandasin funktiota read_csv lukeaksesi tiedoston sisään."
   ]
  },
  {
   "cell_type": "code",
   "execution_count": 2,
   "metadata": {},
   "outputs": [],
   "source": [
    "## Korvaa tämä teksti kirjastojen importilla\n",
    "\n",
    "## Korvaa tämä teksti pandasin read_csv funktion kutsulla ja ota data talteen muuttujaan"
   ]
  },
  {
   "cell_type": "markdown",
   "metadata": {},
   "source": [
    "Seuraavaksi haluamme luoda ensisilmäyksen dataan. Listataan datan rivien ja sarakkeiden määrät. Lisäksi haluamme listata datassa esiintyvät sarakkeet, niissä olevan tiedon tyypit ja datan 5 ensimmäistä riviä."
   ]
  },
  {
   "cell_type": "code",
   "execution_count": 3,
   "metadata": {},
   "outputs": [],
   "source": [
    "## Korvaa tämä rivi kommennolla, jolla saat rivien ja sarakkeiden määrän ja dataframen shape-attribuutin.\n",
    "\n",
    "## Korvaa tämä rivi pandasin dataframen head-funktion kutsulla\n",
    "\n",
    "## Korvaa tämä rivi komennolla, jolla saat luettua pandasin dataframen datatyypit eli dtypes-attribuutin."
   ]
  },
  {
   "cell_type": "markdown",
   "metadata": {},
   "source": [
    "Pohdi, millaisia asioita huomataan datan ensimmäisistä riveistä.\n",
    "Mitkä sarakkeet sisältävät kategorista tietoa? Entä mitä diskreettejä muuttujia löytyy? Sisältääkö jokin sarake totuusarvoja?\n",
    "\n",
    "Tutkitaan seuraavaksi, millaisia arvoja numeeriset muuttujat saavat."
   ]
  },
  {
   "cell_type": "code",
   "execution_count": 4,
   "metadata": {},
   "outputs": [],
   "source": [
    "## Korvaa tämä rivi pandasin dataframen describe-funktion kutsulla"
   ]
  },
  {
   "cell_type": "markdown",
   "metadata": {},
   "source": [
    "Millaisia asioita huomaat numeerisisten sarakkeiden arvoista? Onko järkevää tarkastella kaikkien numeeristen sarakkeiden arvoja tällä tavalla?\n",
    "\n",
    "Listataan seuraavaksi kategoristen/diskreettien muuttujien kaikki uniikit arvot ja niiden lukumäärät?"
   ]
  },
  {
   "cell_type": "code",
   "execution_count": 5,
   "metadata": {},
   "outputs": [],
   "source": [
    "## Korvaa tämä riveillä, joissa haet dataframesta ensin kategorisen sarakkeen arvot sarakkeden nimellä \n",
    "## ja sen jälkeen kaikki sen uniikit arvot ja niiden määrät. Tähän käytetään funktiota value_counts. Jokaisella \n",
    "## kategoriselle muuttujalle tarvitaan oma rivinsä.\n",
    "\n",
    "## BONUS: Jos saat yllä olevat nopeasti valmiiksi, koita, saisitko plotattua jonkun kategorisen sarakkeen lukumäärät.\n",
    "## Tähän käytetään matplotlibia ja sieltä pyplotia. Luonnollisin tapa olisi varmaan muodostaa bar plot. Voit \n",
    "## muodostaa myös muusta kuin kategorisesta datasta jonkin muun plotin."
   ]
  },
  {
   "cell_type": "markdown",
   "metadata": {},
   "source": [
    "Seuraavaksi haluamme tietää, kuinka paljon eri sarakkeista puuttuu arvoja. "
   ]
  },
  {
   "cell_type": "code",
   "execution_count": 6,
   "metadata": {},
   "outputs": [],
   "source": [
    "## Korvaa tämä rivillä, jossa kutsut pandasin dataframen isna ja sum -funktioita. "
   ]
  },
  {
   "cell_type": "markdown",
   "metadata": {},
   "source": [
    "## Osio 2: datan siivoaminen\n",
    "\n",
    "Lähdetään liikkeelle sarakkeesta, josta puuttuu vähiten arvoja. Mieti, mikä tapa olisi hyvä (tässä tapauksessa helppo) puuttuvien arvojen täyttämiseen."
   ]
  },
  {
   "cell_type": "code",
   "execution_count": 7,
   "metadata": {},
   "outputs": [],
   "source": [
    "## Valitse tässä dataframesta ensin sarake, josta puuttuu vähiten arvoja. Valitse sitten sopiva tilastollinen \n",
    "##  tunnusluku, ja laske sarakkeen arvoista se. Lopuksi täytä dataframen tyhjät arvot tällä luvulla."
   ]
  },
  {
   "cell_type": "markdown",
   "metadata": {},
   "source": [
    "Tee sama myös muille sarakkeille, jos niissä esiintyy puuttuvia arvoja. Tarkasta lopuksi, että missään sarakkeessa ei ole enää puuttuvia arvoja."
   ]
  },
  {
   "cell_type": "code",
   "execution_count": 8,
   "metadata": {},
   "outputs": [],
   "source": [
    "## Valitse tässä dataframesta ensin sarake, josta puuttuu arvoja. Valitse sitten sopiva tilastollinen \n",
    "##  tunnusluku, ja laske sarakkeen arvoista se. Lopuksi täytä dataframen tyhjät arvot tällä luvulla.\n",
    "\n",
    "## Suorita tässä sama komento kuin ensimmäisen osion viimeisessä kohdassa, jotta voit tarkistaa, ettei \n",
    "## puuttuvia arvoja enää ole."
   ]
  },
  {
   "cell_type": "markdown",
   "metadata": {},
   "source": [
    "Karsitaan tässä välissä sarakkeita. Mitkä sarakkeet uskallamme poistaa ja miksi? "
   ]
  },
  {
   "cell_type": "code",
   "execution_count": 9,
   "metadata": {},
   "outputs": [],
   "source": [
    "## Valitse tässä ensin omaan dataframeensa ennustettava muuttuja. Tässä tapauksessa se on henkilön selviytyminen.\n",
    "\n",
    "## Poista sarakkeet, joiden et usko tuovan lisäarvoa malliin."
   ]
  },
  {
   "cell_type": "markdown",
   "metadata": {},
   "source": [
    "BONUS: Lopuksi haluamme muuttaa kategoriset muuttujat numeerisiksi. Mitkä jäljellä olevista sarakkeista ovat kategorisia?"
   ]
  },
  {
   "cell_type": "code",
   "execution_count": 1,
   "metadata": {},
   "outputs": [],
   "source": [
    "## Muuta kategoriset muuttujat tässä niin, että ne ovat dummyja. Tähän voit käyttää pandasin get_dummies -funktiota."
   ]
  },
  {
   "cell_type": "code",
   "execution_count": null,
   "metadata": {},
   "outputs": [],
   "source": []
  }
 ],
 "metadata": {
  "kernelspec": {
   "display_name": "Python 3",
   "language": "python",
   "name": "python3"
  },
  "language_info": {
   "codemirror_mode": {
    "name": "ipython",
    "version": 3
   },
   "file_extension": ".py",
   "mimetype": "text/x-python",
   "name": "python",
   "nbconvert_exporter": "python",
   "pygments_lexer": "ipython3",
   "version": "3.6.5"
  }
 },
 "nbformat": 4,
 "nbformat_minor": 2
}
